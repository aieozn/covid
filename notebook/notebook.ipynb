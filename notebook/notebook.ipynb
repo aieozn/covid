{
 "cells": [
  {
   "cell_type": "code",
   "execution_count": 1,
   "metadata": {},
   "outputs": [
    {
     "name": "stdout",
     "output_type": "stream",
     "text": [
      "package 'readxl' successfully unpacked and MD5 sums checked\n"
     ]
    },
    {
     "name": "stderr",
     "output_type": "stream",
     "text": [
      "Warning message:\n",
      "\"cannot remove prior installation of package 'readxl'\"\n",
      "Warning message in file.copy(savedcopy, lib, recursive = TRUE):\n",
      "\"problem z kopiowaniem C:\\Users\\Kamil\\Documents\\R\\win-library\\4.0\\00LOCK\\readxl\\libs\\x64\\readxl.dll do C:\\Users\\Kamil\\Documents\\R\\win-library\\4.0\\readxl\\libs\\x64\\readxl.dll: Permission denied\"\n",
      "Warning message:\n",
      "\"restored 'readxl'\"\n"
     ]
    },
    {
     "name": "stdout",
     "output_type": "stream",
     "text": [
      "\n",
      "The downloaded binary packages are in\n",
      "\tC:\\Users\\Kamil\\AppData\\Local\\Temp\\RtmpO6eWAD\\downloaded_packages\n",
      "package 'ggplot2' successfully unpacked and MD5 sums checked\n",
      "\n",
      "The downloaded binary packages are in\n",
      "\tC:\\Users\\Kamil\\AppData\\Local\\Temp\\RtmpO6eWAD\\downloaded_packages\n",
      "package 'ggpubr' successfully unpacked and MD5 sums checked\n",
      "\n",
      "The downloaded binary packages are in\n",
      "\tC:\\Users\\Kamil\\AppData\\Local\\Temp\\RtmpO6eWAD\\downloaded_packages\n",
      "package 'tidyr' successfully unpacked and MD5 sums checked\n"
     ]
    },
    {
     "name": "stderr",
     "output_type": "stream",
     "text": [
      "Warning message:\n",
      "\"cannot remove prior installation of package 'tidyr'\"\n",
      "Warning message in file.copy(savedcopy, lib, recursive = TRUE):\n",
      "\"problem z kopiowaniem C:\\Users\\Kamil\\Documents\\R\\win-library\\4.0\\00LOCK\\tidyr\\libs\\x64\\tidyr.dll do C:\\Users\\Kamil\\Documents\\R\\win-library\\4.0\\tidyr\\libs\\x64\\tidyr.dll: Permission denied\"\n",
      "Warning message:\n",
      "\"restored 'tidyr'\"\n"
     ]
    },
    {
     "name": "stdout",
     "output_type": "stream",
     "text": [
      "\n",
      "The downloaded binary packages are in\n",
      "\tC:\\Users\\Kamil\\AppData\\Local\\Temp\\RtmpO6eWAD\\downloaded_packages\n"
     ]
    },
    {
     "name": "stderr",
     "output_type": "stream",
     "text": [
      "Loading required package: lattice\n",
      "\n"
     ]
    }
   ],
   "source": [
    "## Libraries\n",
    "\n",
    "suppressMessages(install.packages(\"readxl\"))\n",
    "suppressMessages(install.packages(\"ggplot2\"))\n",
    "suppressMessages(install.packages(\"ggpubr\"))\n",
    "suppressMessages(install.packages(\"tidyr\"))\n",
    "\n",
    "\n",
    "library(\"readxl\", warn.conflicts = FALSE)\n",
    "library(dplyr, warn.conflicts = FALSE)\n",
    "library(ggplot2, warn.conflicts = FALSE)\n",
    "library(repr, warn.conflicts = FALSE)\n",
    "library(ggpubr, warn.conflicts = FALSE)\n",
    "library(tidyr, warn.conflicts = FALSE)\n",
    "library(caret)"
   ]
  },
  {
   "cell_type": "code",
   "execution_count": null,
   "metadata": {
    "scrolled": true
   },
   "outputs": [],
   "source": [
    "data <- read_excel(\"data.xlsx\")"
   ]
  },
  {
   "cell_type": "markdown",
   "metadata": {},
   "source": [
    "# Wstępne przetwarzanie danych"
   ]
  },
  {
   "cell_type": "markdown",
   "metadata": {},
   "source": [
    "- Dopisanie identyfikatorów pacjenta dla wierszy z NA\n",
    "- Zamiana etykiet kolumn z greckimi literami\n",
    "- Zamiana dat na numerable\n",
    "- Usunięcie niepotrzebnych wskaźników (2019-nCoV nucleic acid detection). W przypadku drugiego parametru nie jestem pewny jak interpretować puste wartości. Wartości wypełnione to tylko -1."
   ]
  },
  {
   "cell_type": "code",
   "execution_count": null,
   "metadata": {
    "scrolled": true
   },
   "outputs": [],
   "source": [
    "previous_id = 1;\n",
    "loop_iterator = 1;\n",
    "\n",
    "data <- data %>% rename(`Interleukin 1B` = `Interleukin 1ß`)\n",
    "data <- data %>% rename(`Tumor necrosis factora` = `Tumor necrosis factorα`)\n",
    "data <- data %>% rename(`y-glutamyl transpeptidase` = `γ-glutamyl transpeptidase`)\n",
    "\n",
    "data <- data %>% \n",
    "        mutate(nRE_DATE = as.numeric(RE_DATE)) %>%\n",
    "        mutate(`nAdmission time` = as.numeric(`Admission time`)) %>%\n",
    "        mutate(`nDischarge time` = as.numeric(`Discharge time`))\n",
    "\n",
    "data <- select(\n",
    "            data, \n",
    "           -c(\n",
    "               \"Admission time\",\n",
    "               \"Discharge time\",\n",
    "               \"2019-nCoV nucleic acid detection\"\n",
    "           )\n",
    "          )\n",
    "\n",
    "for (record in data$PATIENT_ID) {\n",
    "    \n",
    "    if (is.na(record)) {\n",
    "        data$PATIENT_ID[loop_iterator] = previous_id;\n",
    "    } else {\n",
    "        previous_id = record;\n",
    "    }\n",
    "\n",
    "    loop_iterator <- loop_iterator + 1;\n",
    "}\n",
    "\n",
    "summary(data)"
   ]
  },
  {
   "cell_type": "markdown",
   "metadata": {},
   "source": [
    "# Graficzna analiza zależności parametrów od wyniku\n",
    "\n",
    "W tym kroku, w celu zapoznania się lepiej z danymi, wygenerowałem dla każdego atrybutu wykres zależności outcome od tego atrybutu. Poniżej kilka, moim zdaniem, najciekawszych z nich wraz z komentarzem. "
   ]
  },
  {
   "cell_type": "markdown",
   "metadata": {},
   "source": [
    "#### Generowanie wszystkich wykresów\n",
    "Blok został zakomentowany, ponieważ w sekcji poniżej pokazane są najciekawsze z wyników."
   ]
  },
  {
   "cell_type": "code",
   "execution_count": null,
   "metadata": {
    "scrolled": false
   },
   "outputs": [],
   "source": [
    "options(repr.plot.width=16, repr.plot.height=10)\n",
    "\n",
    "show <- function() {\n",
    "    for (column_name in colnames(data)) {\n",
    "\n",
    "        kv <- data %>%\n",
    "                select(!!as.name(column_name), outcome) %>%\n",
    "                filter(!is.na(!!as.name(column_name))) %>%\n",
    "                count(!!as.name(column_name), outcome)\n",
    "\n",
    "        print(ggplot(kv, aes(x=!!as.name(column_name), y=outcome, size = n))\n",
    "              + geom_point(alpha=0.7)\n",
    "              + ggtitle(paste(\"Zależnośc wyniku badania od atrybutu: \", column_name))\n",
    "              + theme(text = element_text(size=20))\n",
    "             )\n",
    "    }\n",
    "}\n",
    "\n",
    "# show()"
   ]
  },
  {
   "cell_type": "markdown",
   "metadata": {},
   "source": [
    "#### Najciekawsze (według mnie) wykresy"
   ]
  },
  {
   "cell_type": "code",
   "execution_count": null,
   "metadata": {
    "scrolled": false
   },
   "outputs": [],
   "source": [
    "options(repr.plot.width=16, repr.plot.height=40)\n",
    "plots = list()\n",
    "interesting_cols = c(\n",
    "    \"age\",\n",
    "    \"gender\",\n",
    "    \"Hypersensitive cardiac troponinI\",\n",
    "    \"Prothrombin time\",\n",
    "    \"albumin\",\n",
    "    \"Direct bilirubin\",\n",
    "    \"Total cholesterol\",\n",
    "    \"Amino-terminal brain natriuretic peptide precursor(NT-proBNP)\",\n",
    "    \"Lactate dehydrogenase\",\n",
    "    \"neutrophils count\"\n",
    ")\n",
    "i = 1\n",
    "\n",
    "for (column_name in interesting_cols) {\n",
    "    kv <- data %>%\n",
    "                select(!!as.name(column_name), outcome) %>%\n",
    "                filter(!is.na(!!as.name(column_name))) %>%\n",
    "                count(!!as.name(column_name), outcome)\n",
    "\n",
    "    plots[[i]] <- (ggplot(kv, aes(x=!!as.name(column_name), y=outcome, size = n))\n",
    "          + geom_point(alpha=0.7)\n",
    "          + ggtitle(paste(\"Zależnośc wyniku badania od atrybutu: \", column_name))\n",
    "          + theme(text = element_text(size=15))\n",
    "         )\n",
    "    \n",
    "    i = i + 1\n",
    "}\n",
    "\n",
    "ggarrange(\n",
    "    plots[[1]],\n",
    "    plots[[2]],\n",
    "    plots[[3]],\n",
    "    plots[[4]],\n",
    "    plots[[5]],\n",
    "    plots[[6]],\n",
    "    plots[[7]],\n",
    "    plots[[8]],\n",
    "    plots[[9]],\n",
    "    plots[[10]],\n",
    "    ncol = 2, nrow = 5)"
   ]
  },
  {
   "cell_type": "markdown",
   "metadata": {},
   "source": [
    "# Korelacja atrybutów\n",
    "Lista kilku atrybutów, których korelacja w stosunku do atrubutu \"outcome\" jest największa"
   ]
  },
  {
   "cell_type": "code",
   "execution_count": null,
   "metadata": {
    "scrolled": false
   },
   "outputs": [],
   "source": [
    "korelacje = {}\n",
    "\n",
    "for (column_name in colnames(select(data, -c(\"outcome\", \"PATIENT_ID\", \"RE_DATE\")))) {\n",
    "    kv <- data %>%\n",
    "            select(!!as.name(column_name), outcome) %>%\n",
    "            filter(!is.na(!!as.name(column_name)))\n",
    "    \n",
    "    korelacje[column_name] <- abs(cor(kv$outcome, kv %>% select(all_of(column_name))))\n",
    "}\n",
    "\n",
    "ordered <- korelacje[order(unlist(korelacje))]\n",
    "\n",
    "options(repr.plot.width=16, repr.plot.height=6)\n",
    "names <- names(rev(ordered))[1:6]\n",
    "\n",
    "for (column_name in names) {\n",
    "    kv <- data %>%\n",
    "                select(!!as.name(column_name), outcome) %>%\n",
    "                filter(!is.na(!!as.name(column_name))) %>%\n",
    "                count(!!as.name(column_name), outcome)\n",
    "\n",
    "    plot <- ggplot(kv, aes(x=!!as.name(column_name), y=outcome, size = n)) +\n",
    "            geom_point() +\n",
    "            geom_smooth(method=\"lm\") +\n",
    "            ggtitle(paste(\"Zależnośc wyniku badania od atrybutu: \", column_name, \". Korelacja: \", ordered[column_name])) + \n",
    "            theme(text = element_text(size=15))\n",
    "    \n",
    "    suppressMessages(print(plot))\n",
    "}"
   ]
  },
  {
   "cell_type": "markdown",
   "metadata": {},
   "source": [
    "# Zmiana parametrów w czasie\n",
    "Wizualizacja zmiany współczynników krwi u pacjentów w czasie przebywania choroby ze skutkiem śmiertelnym. "
   ]
  },
  {
   "cell_type": "code",
   "execution_count": null,
   "metadata": {},
   "outputs": [],
   "source": [
    "dead <- data %>%\n",
    "            filter(outcome == 1) %>%\n",
    "            select(c(1, 2, 5:(length(data) - 3) ))\n",
    "            \n",
    "\n",
    "patients_data = NA\n",
    "initialized = FALSE\n",
    "\n",
    "for (patient_id in dead$PATIENT_ID) {\n",
    "    patient_data <- dead %>%\n",
    "                    filter(PATIENT_ID==patient_id) %>%\n",
    "                    mutate(day=format(RE_DATE, format='%m/%d/%Y')) %>%\n",
    "                    group_by(day, PATIENT_ID) %>%\n",
    "                    summarise_each(funs(mean(., na.rm = TRUE))) %>%\n",
    "                    arrange(desc(RE_DATE))\n",
    "    \n",
    "    patient_data$day = seq.int(nrow(patient_data))\n",
    "    \n",
    "    if (!initialized) {\n",
    "        patients_data = patient_data\n",
    "        initialized =TRUE\n",
    "    } else {\n",
    "        patients_data = union(patients_data, patient_data)\n",
    "    }\n",
    "    \n",
    "}\n",
    "\n",
    "max_day <- max(patients_data[\"day\"])\n",
    "patients_data <- patients_data %>% select(c(1, 2, 5:length(patients_data)))\n",
    "patients_data <- patients_data %>% mutate(day=(max_day - day + 1))"
   ]
  },
  {
   "cell_type": "code",
   "execution_count": null,
   "metadata": {},
   "outputs": [],
   "source": [
    "patients_data <- ungroup(patients_data)"
   ]
  },
  {
   "cell_type": "markdown",
   "metadata": {},
   "source": [
    "Wyniki analizy przedstawiąją zmianę parametrów krwi przed zgonem. Skrajny prawy słupek oznacza współczynniki krwi u pacjenta w dniu zgonu (dla wielu pomiarów wyciągana jest średnia). Przeciętnie pacjenci trafiali do szpitala kilka dni przed zgonem, dlatego wyniki badań krwi pacjentów kilkanaście dni przed zgonem (lewa stronwa wykresu) są szczątkowe. "
   ]
  },
  {
   "cell_type": "markdown",
   "metadata": {},
   "source": [
    "Poniższy skrypt przedstawia sposób wygenerowania wszystkich wykresów. Podobnie jak w przypadku poprzedniej analizy, spośród wszystkich wybrałem kilka interesujących i przedstawię tylko te."
   ]
  },
  {
   "cell_type": "code",
   "execution_count": null,
   "metadata": {
    "scrolled": false
   },
   "outputs": [],
   "source": [
    "options(repr.plot.width=16, repr.plot.height=10)\n",
    "hide_cols = c(\"day\", \"PATIENT_ID\")\n",
    "\n",
    "show <- function(to_show) {\n",
    "    for (column_name in to_show) {\n",
    "        \n",
    "        if (column_name %in% hide_cols) {\n",
    "            next\n",
    "        }\n",
    "\n",
    "        kv <- patients_data %>%\n",
    "                select(!!as.name(column_name), day) %>%\n",
    "                filter(!is.na(!!as.name(column_name)))\n",
    "\n",
    "        print(\n",
    "                ggplot(kv, aes(x=day, y=!!as.name(column_name)))\n",
    "              + geom_point()\n",
    "              + ggtitle(paste(\"Zależnośc wyniku badania od atrybutu: \", column_name))\n",
    "              + theme(text = element_text(size=20))\n",
    "             )\n",
    "    }\n",
    "}\n",
    "\n",
    "# show(colnames(patients_data))"
   ]
  },
  {
   "cell_type": "code",
   "execution_count": null,
   "metadata": {},
   "outputs": [],
   "source": [
    "options(repr.plot.width=15, repr.plot.height=8)\n",
    "\n",
    "show(c(\"creatinine\", \"Lactate dehydrogenase\"))"
   ]
  },
  {
   "cell_type": "markdown",
   "metadata": {},
   "source": [
    "Podobnej selekcji najciekawszysch wyników dokonałem także dla uwzględniając korelacje atrybutów. Zgodnie z tym współczynnikiem najbardziej interesujące atrybuty to:"
   ]
  },
  {
   "cell_type": "code",
   "execution_count": null,
   "metadata": {},
   "outputs": [],
   "source": [
    "korelacje = {}\n",
    "hide_cols = c(\"day\", \"PATIENT_ID\")\n",
    "\n",
    "for (column_name in colnames(patients_data)) {\n",
    "    \n",
    "    if (column_name %in% hide_cols) {\n",
    "        next\n",
    "    }\n",
    "    \n",
    "    kv <- patients_data %>%\n",
    "            select(!!as.name(column_name), day) %>%\n",
    "            filter(!is.na(!!as.name(column_name)))\n",
    "    \n",
    "    \n",
    "    \n",
    "    korelacje[column_name] <- abs(cor(kv$day, kv %>% select(all_of(column_name))))\n",
    "}\n",
    "\n",
    "ordered <- korelacje[order(unlist(korelacje))]\n",
    "\n",
    "options(repr.plot.width=16, repr.plot.height=6)\n",
    "names <- names(rev(ordered))[1:2]\n",
    "\n",
    "for (column_name in names) {\n",
    "    kv <- patients_data %>%\n",
    "                select(!!as.name(column_name), day) %>%\n",
    "                filter(!is.na(!!as.name(column_name)))\n",
    "\n",
    "    plot <- ggplot(kv, aes(x=day, y=!!as.name(column_name))) +\n",
    "            geom_point() +\n",
    "            geom_smooth(method=\"lm\") +\n",
    "            ggtitle(paste(\"Zależnośc dnia od atrybutu: \", column_name, \".Korelacja: \", ordered[column_name])) + \n",
    "            theme(text = element_text(size=15))\n",
    "    \n",
    "    suppressMessages(print(plot))\n",
    "}"
   ]
  },
  {
   "cell_type": "markdown",
   "metadata": {},
   "source": [
    "# Klasyfikacja"
   ]
  },
  {
   "cell_type": "code",
   "execution_count": null,
   "metadata": {},
   "outputs": [],
   "source": [
    "library(randomForest)"
   ]
  },
  {
   "cell_type": "markdown",
   "metadata": {},
   "source": [
    "Pominięcie zbędnych kolum i zmiana wartości outcome"
   ]
  },
  {
   "cell_type": "code",
   "execution_count": null,
   "metadata": {},
   "outputs": [],
   "source": [
    "classification_data <- data %>%\n",
    "        select(-c(`nAdmission time`, `nDischarge time`, `RE_DATE`, `nRE_DATE`))\n",
    "\n",
    "i = 1\n",
    "for (row in classification_data$outcome) {\n",
    "    if (row==1) {\n",
    "        classification_data$outcome[i] = \"dead\"\n",
    "    } else {\n",
    "        classification_data$outcome[i] = \"alive\"\n",
    "    }\n",
    "    \n",
    "    i = i + 1\n",
    "}\n",
    "\n",
    "classification_data <- classification_data %>% \n",
    "                        group_by(PATIENT_ID, outcome) %>%\n",
    "                        summarise_each(funs(mean(., na.rm = TRUE))) %>%\n",
    "                        ungroup() %>%\n",
    "                        select(-c(\"PATIENT_ID\"))"
   ]
  },
  {
   "cell_type": "markdown",
   "metadata": {},
   "source": [
    "Podzielenie danych na 3 ziory (treningowy, walidacyjny i testowy)"
   ]
  },
  {
   "cell_type": "code",
   "execution_count": null,
   "metadata": {},
   "outputs": [],
   "source": [
    "set.seed(23)\n",
    "\n",
    "inTraining <- \n",
    "    createDataPartition(\n",
    "        y = classification_data$outcome,\n",
    "        p = .7,\n",
    "        list = FALSE)\n",
    "\n",
    "classification_data_training <- classification_data[ inTraining,]\n",
    "nottraining  <- classification_data[-inTraining,]\n",
    "\n",
    "inTesting <- \n",
    "    createDataPartition(\n",
    "        y = nottraining$outcome,\n",
    "        p = .5,\n",
    "        list = FALSE)\n",
    "\n",
    "classification_data_testing = nottraining[inTesting, ]\n",
    "classification_data_validating = nottraining[-inTesting, ]"
   ]
  },
  {
   "cell_type": "markdown",
   "metadata": {},
   "source": [
    "Uzupełnienie wartości pustych wartościami średnimi"
   ]
  },
  {
   "cell_type": "code",
   "execution_count": null,
   "metadata": {},
   "outputs": [],
   "source": [
    "for(i in 4:ncol(classification_data_training)){\n",
    "    mean <-  mean(classification_data_training[[i]], na.rm = TRUE)\n",
    "    classification_data_training[is.na(classification_data_training[[i]]),i] <- mean\n",
    "}\n",
    "\n",
    "for(i in 4:ncol(classification_data_validating)){\n",
    "    mean <-  mean(classification_data_validating[[i]], na.rm = TRUE)\n",
    "    classification_data_validating[is.na(classification_data_validating[[i]]),i] <- mean\n",
    "}\n",
    "\n",
    "for(i in 4:ncol(classification_data_testing)){\n",
    "    mean <-  mean(classification_data_testing[[i]], na.rm = TRUE)\n",
    "    classification_data_testing[is.na(classification_data_testing[[i]]),i] <- mean\n",
    "}"
   ]
  },
  {
   "cell_type": "markdown",
   "metadata": {},
   "source": [
    "Uzupełnienie danych pacjentów "
   ]
  },
  {
   "cell_type": "code",
   "execution_count": null,
   "metadata": {
    "scrolled": false
   },
   "outputs": [],
   "source": [
    "set.seed(128)\n",
    "\n",
    "control <- trainControl(\n",
    "    method=\"repeatedcv\", \n",
    "    number=2, \n",
    "    repeats=2,\n",
    "    allowParallel = TRUE)\n",
    "\n",
    "df <- data.frame(set=character(),\n",
    "                 ntree=integer(), \n",
    "                 mtry=integer(),\n",
    "                 score=double(),\n",
    "                 stringsAsFactors=FALSE) \n",
    "\n",
    "for (ntree in c(5, 10, 15, 20, 25, 30)){\n",
    "    \n",
    "    for (mtry in c(1:10)) {\n",
    "        set.seed(123);\n",
    "        \n",
    "        fit <- train(\n",
    "            outcome ~ .,\n",
    "            data = classification_data_training,\n",
    "            method = \"rf\",\n",
    "            trControl = control,\n",
    "            metric='Accuracy',\n",
    "            tuneGrid = expand.grid(mtry=c(mtry)),\n",
    "            ntree = ntree\n",
    "        )\n",
    "        \n",
    "        rfClasses <- predict(fit, newdata = classification_data_validating)\n",
    "        rtClasses <- predict(fit, newdata = classification_data_training)\n",
    "        fm <- confusionMatrix(table(rfClasses, classification_data_validating$outcome))\n",
    "        tm <- confusionMatrix(table(rtClasses, classification_data_training$outcome))\n",
    "        \n",
    "        new_row <- data.frame(\"validating\", mtry, ntree, fm$overall['Accuracy'])\n",
    "        names(new_row)<-c(\"set\", \"mtry\", \"ntry\", \"score\")\n",
    "        df <- rbind(df, new_row)\n",
    "        \n",
    "        new_row <- data.frame(\"training\", mtry, ntree, tm$overall['Accuracy'])\n",
    "        names(new_row)<-c(\"set\", \"mtry\", \"ntry\", \"score\")\n",
    "        df <- rbind(df, new_row)\n",
    "    }\n",
    "}"
   ]
  },
  {
   "cell_type": "code",
   "execution_count": null,
   "metadata": {
    "scrolled": false
   },
   "outputs": [],
   "source": [
    "dff <- df %>% mutate(grouped_id = row_number()) %>% spread('mtry', 'score')  %>% \n",
    "            select(-c(\"grouped_id\")) %>%\n",
    "            group_by(set, ntry) %>% \n",
    "            summarise_each(funs(mean(., na.rm = TRUE))) %>%\n",
    "            ungroup()\n",
    "\n",
    "\n",
    "plt <- ggplot(dff %>% filter(set==\"training\"), aes(x=ntry))\n",
    "\n",
    "for (i in c(1:10)) {\n",
    "    plt <- plt + \n",
    "        geom_line(aes(y=!!as.name(i))) +\n",
    "        geom_point(aes(y=!!as.name(i)))\n",
    "\n",
    "}\n",
    "print(plt + theme(text = element_text(size=20)) + ggtitle(\"Wyniki dla zbioru treningowego\"))\n",
    "\n",
    "\n",
    "\n",
    "vall <- dff %>% filter(set==\"validating\")\n",
    "plt <- ggplot(vall, aes(x=ntry))\n",
    "\n",
    "for (i in c(1:10)) {\n",
    "    plt <- plt + \n",
    "                geom_line(aes(y=!!as.name(i))) +\n",
    "                geom_text(aes(x = 4, y = vall[[toString(i)]][[1]], label = paste(\"mtry = \", toString(i))), size=6) +\n",
    "                geom_point(aes(y=!!as.name(i)))\n",
    "}\n",
    "print(plt + theme(text = element_text(size=20)) + ggtitle(\"Wyniki dla zbioru walidacyjnego\"))\n"
   ]
  },
  {
   "cell_type": "code",
   "execution_count": null,
   "metadata": {},
   "outputs": [],
   "source": [
    "fit <- train(\n",
    "    outcome ~ .,\n",
    "    data = classification_data_testing,\n",
    "    method = \"rf\",\n",
    "    trControl = control,\n",
    "    metric='Accuracy',\n",
    "    tuneGrid = expand.grid(mtry=c(3)),\n",
    "    ntree = 30\n",
    ")"
   ]
  },
  {
   "cell_type": "markdown",
   "metadata": {},
   "source": [
    "### Miary klasyfikacji\n",
    "Macierz pomyłek, pokazuje dokładnie (nie tylko procentowo) dokonane błędy\n",
    "\n",
    "Skuteczność pozwala porównywać bezpośrednio 2 wyniki algorytmu jednym współczynnikiem\n",
    "\n",
    "Pos Pred Value i Neg Pred Value - podobnie jak wyżej, jednak ze względu na specyfikę problemu, prawodopodobnie bardziej istotne będzie maksymalizowanie wskaźnika Pos Pred Value"
   ]
  },
  {
   "cell_type": "code",
   "execution_count": null,
   "metadata": {
    "scrolled": true
   },
   "outputs": [],
   "source": [
    "confusionMatrix(table(rfClasses, classification_data_testing$outcome), positive=\"dead\")$table\n",
    "\n",
    "confusionMatrix(table(rfClasses, classification_data_testing$outcome))$overall['Accuracy']\n",
    "confusionMatrix(table(rfClasses, classification_data_testing$outcome))$byClass['Pos Pred Value']\n",
    "confusionMatrix(table(rfClasses, classification_data_testing$outcome))$byClass['Neg Pred Value']"
   ]
  },
  {
   "cell_type": "markdown",
   "metadata": {},
   "source": [
    "### Ważność współczynników"
   ]
  },
  {
   "cell_type": "code",
   "execution_count": null,
   "metadata": {},
   "outputs": [],
   "source": [
    "varImp(fit)"
   ]
  }
 ],
 "metadata": {
  "kernelspec": {
   "display_name": "R",
   "language": "R",
   "name": "ir"
  },
  "language_info": {
   "codemirror_mode": "r",
   "file_extension": ".r",
   "mimetype": "text/x-r-source",
   "name": "R",
   "pygments_lexer": "r",
   "version": "4.0.3"
  }
 },
 "nbformat": 4,
 "nbformat_minor": 4
}
